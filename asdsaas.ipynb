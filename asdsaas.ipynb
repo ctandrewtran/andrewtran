{
  "nbformat": 4,
  "nbformat_minor": 0,
  "metadata": {
    "colab": {
      "name": "asdsaas.ipynb",
      "provenance": [],
      "collapsed_sections": [],
      "include_colab_link": true
    },
    "kernelspec": {
      "name": "python3",
      "display_name": "Python 3"
    }
  },
  "cells": [
    {
      "cell_type": "markdown",
      "metadata": {
        "id": "view-in-github",
        "colab_type": "text"
      },
      "source": [
        "<a href=\"https://colab.research.google.com/github/ctandrewtran/andrewtran/blob/master/asdsaas.ipynb\" target=\"_parent\"><img src=\"https://colab.research.google.com/assets/colab-badge.svg\" alt=\"Open In Colab\"/></a>"
      ]
    },
    {
      "cell_type": "code",
      "metadata": {
        "id": "_X2L4OJ7_hV8",
        "outputId": "f6de01ae-3d21-4b23-c4b5-19f438bb4074",
        "colab": {
          "base_uri": "https://localhost:8080/"
        }
      },
      "source": [
        "pip install num2words"
      ],
      "execution_count": 2,
      "outputs": [
        {
          "output_type": "stream",
          "text": [
            "Collecting num2words\n",
            "\u001b[?25l  Downloading https://files.pythonhosted.org/packages/eb/a2/ea800689730732e27711c41beed4b2a129b34974435bdc450377ec407738/num2words-0.5.10-py3-none-any.whl (101kB)\n",
            "\r\u001b[K     |███▎                            | 10kB 18.6MB/s eta 0:00:01\r\u001b[K     |██████▌                         | 20kB 1.6MB/s eta 0:00:01\r\u001b[K     |█████████▊                      | 30kB 1.8MB/s eta 0:00:01\r\u001b[K     |█████████████                   | 40kB 2.1MB/s eta 0:00:01\r\u001b[K     |████████████████▏               | 51kB 1.9MB/s eta 0:00:01\r\u001b[K     |███████████████████▍            | 61kB 2.1MB/s eta 0:00:01\r\u001b[K     |██████████████████████▋         | 71kB 2.3MB/s eta 0:00:01\r\u001b[K     |█████████████████████████▉      | 81kB 2.5MB/s eta 0:00:01\r\u001b[K     |█████████████████████████████   | 92kB 2.5MB/s eta 0:00:01\r\u001b[K     |████████████████████████████████| 102kB 2.2MB/s \n",
            "\u001b[?25hRequirement already satisfied: docopt>=0.6.2 in /usr/local/lib/python3.6/dist-packages (from num2words) (0.6.2)\n",
            "Installing collected packages: num2words\n",
            "Successfully installed num2words-0.5.10\n"
          ],
          "name": "stdout"
        }
      ]
    },
    {
      "cell_type": "code",
      "metadata": {
        "id": "XYNQ0SqYE4Ld"
      },
      "source": [
        "import pandas as pd\n",
        "\n",
        "## WARNING your going to need the python library num2words\n",
        "from num2words import num2words\n",
        "\n",
        "#data stored on uconn's github; query parama raw=true needed to retrieve data properly\n",
        "url = 'https://github.uconn.edu/Ant16112/opim3803/blob/master/GP_data.csv?raw=true'\n",
        "\n",
        "#reading in csv data\n",
        "df = pd.read_csv(url)\n",
        "\n",
        "#making sugar calorie column for later calculation\n",
        "df['Sugar_Calories'] = df['Sugar'] * 4\n",
        "\n",
        "#replacing food or drink with integer id to avoid data cleaning\n",
        "#then replacing integer with string. this allows us to use the for loop down below to automatically generate constraints\n",
        "#there was an issue with using the food or drink name since there were weird characters like / or %\n",
        "#there was an issue with using an id based on the index \n",
        "#thus num2words was best solution\n",
        "df['food_drink_id'] = df.index\n",
        "df['food_drink_id'] = df['food_drink_id'].apply(num2words)\n",
        "df['food_drink_id']  = df['food_drink_id'].str.replace(\" \", '')\n",
        "df['food_drink_id']  = df['food_drink_id'].str.replace(\"and\", '')\n",
        "df['food_drink_id']  = df['food_drink_id'].str.replace(\"-\", '')"
      ],
      "execution_count": 3,
      "outputs": []
    },
    {
      "cell_type": "code",
      "metadata": {
        "id": "RmVfmCN9H20M",
        "outputId": "2faf140f-c296-4400-c5df-a57ab76f54d5",
        "colab": {
          "base_uri": "https://localhost:8080/",
          "height": 202
        }
      },
      "source": [
        "#showing first 5 rows \n",
        "df.head()"
      ],
      "execution_count": 4,
      "outputs": [
        {
          "output_type": "execute_result",
          "data": {
            "text/html": [
              "<div>\n",
              "<style scoped>\n",
              "    .dataframe tbody tr th:only-of-type {\n",
              "        vertical-align: middle;\n",
              "    }\n",
              "\n",
              "    .dataframe tbody tr th {\n",
              "        vertical-align: top;\n",
              "    }\n",
              "\n",
              "    .dataframe thead th {\n",
              "        text-align: right;\n",
              "    }\n",
              "</style>\n",
              "<table border=\"1\" class=\"dataframe\">\n",
              "  <thead>\n",
              "    <tr style=\"text-align: right;\">\n",
              "      <th></th>\n",
              "      <th>Food or Drink</th>\n",
              "      <th>Calories</th>\n",
              "      <th>Protein</th>\n",
              "      <th>Carb</th>\n",
              "      <th>Sodium</th>\n",
              "      <th>Sugar</th>\n",
              "      <th>Weight Watchers Points</th>\n",
              "      <th>Sugar_Calories</th>\n",
              "      <th>food_drink_id</th>\n",
              "    </tr>\n",
              "  </thead>\n",
              "  <tbody>\n",
              "    <tr>\n",
              "      <th>0</th>\n",
              "      <td>Original Chili Cheese Dog, standard bun</td>\n",
              "      <td>320</td>\n",
              "      <td>15</td>\n",
              "      <td>31</td>\n",
              "      <td>1410</td>\n",
              "      <td>4</td>\n",
              "      <td>9</td>\n",
              "      <td>16</td>\n",
              "      <td>zero</td>\n",
              "    </tr>\n",
              "    <tr>\n",
              "      <th>1</th>\n",
              "      <td>Original Chili Dog, standard bun</td>\n",
              "      <td>270</td>\n",
              "      <td>12</td>\n",
              "      <td>31</td>\n",
              "      <td>1160</td>\n",
              "      <td>4</td>\n",
              "      <td>8</td>\n",
              "      <td>16</td>\n",
              "      <td>one</td>\n",
              "    </tr>\n",
              "    <tr>\n",
              "      <th>2</th>\n",
              "      <td>Original Mustard Dog, standard bun</td>\n",
              "      <td>240</td>\n",
              "      <td>10</td>\n",
              "      <td>27</td>\n",
              "      <td>810</td>\n",
              "      <td>4</td>\n",
              "      <td>7</td>\n",
              "      <td>16</td>\n",
              "      <td>two</td>\n",
              "    </tr>\n",
              "    <tr>\n",
              "      <th>3</th>\n",
              "      <td>Original Relish Dog, standard bun</td>\n",
              "      <td>250</td>\n",
              "      <td>10</td>\n",
              "      <td>30</td>\n",
              "      <td>870</td>\n",
              "      <td>6</td>\n",
              "      <td>7</td>\n",
              "      <td>24</td>\n",
              "      <td>three</td>\n",
              "    </tr>\n",
              "    <tr>\n",
              "      <th>4</th>\n",
              "      <td>Original Kraut Dog, standard bun</td>\n",
              "      <td>240</td>\n",
              "      <td>10</td>\n",
              "      <td>28</td>\n",
              "      <td>1040</td>\n",
              "      <td>5</td>\n",
              "      <td>7</td>\n",
              "      <td>20</td>\n",
              "      <td>four</td>\n",
              "    </tr>\n",
              "  </tbody>\n",
              "</table>\n",
              "</div>"
            ],
            "text/plain": [
              "                             Food or Drink  ...  food_drink_id\n",
              "0  Original Chili Cheese Dog, standard bun  ...           zero\n",
              "1         Original Chili Dog, standard bun  ...            one\n",
              "2       Original Mustard Dog, standard bun  ...            two\n",
              "3        Original Relish Dog, standard bun  ...          three\n",
              "4         Original Kraut Dog, standard bun  ...           four\n",
              "\n",
              "[5 rows x 9 columns]"
            ]
          },
          "metadata": {
            "tags": []
          },
          "execution_count": 4
        }
      ]
    },
    {
      "cell_type": "markdown",
      "metadata": {
        "id": "dfgBHgjkMmJ_"
      },
      "source": [
        "# The Diet: IIFYM\n",
        "\n",
        "Called \"if it fits your macros,\" it is a diet where you simply calculate the calories you burn per day and eat under that threshold alongside protein/fat macro requirements. Any food or drink goes!\n",
        "\n",
        "## IIFYM Guidlines\n",
        "Added these in to be more healthy since IIFYM is so flexible\n",
        "\n",
        "* Calculate basal metabolic rate (BMR) adjusted with total daily energy expenditure (TDEE) and eat 10%-15% below that\n",
        "* Protein intake is between .7-1 grams per lb of bodyweight\n",
        "\n",
        "## CDC Health Guidelines\n",
        "* Sodium must be less than or equal to 2300 mg\n",
        "* Sugar must bes less than 10% of calories for the day\n",
        "\n",
        "### Calculate BMR below using the Original Harris-Benedict Equation\n"
      ]
    },
    {
      "cell_type": "code",
      "metadata": {
        "id": "OHJomlmqPVIj",
        "outputId": "78457bd8-2601-40bf-8fa0-8137ee7f430b",
        "colab": {
          "base_uri": "https://localhost:8080/"
        }
      },
      "source": [
        "#gathering neccesary inputs for basal metabolic rate calculation\n",
        "print(\"Are you male or female; input m for male and f for female\")\n",
        "gender = input()\n",
        "\n",
        "print(\"Input height in inches\")\n",
        "height = input()\n",
        "height = float(height)\n",
        "\n",
        "print(\"Input age in years\")\n",
        "age = input()\n",
        "age = float(age)\n",
        "\n",
        "print(\"Input weight in lbs\")\n",
        "weight = input()\n",
        "weight = float(weight)\n",
        "\n",
        "def bmr_calc(gender, height, age, weight):\n",
        "  if gender == 'm':\n",
        "    bmr = 66.4730 + (13.7516 * (weight * .45)) + (5.0033 * (height * 2.54)) - (6.7550 * age)\n",
        "    return bmr\n",
        "  elif gender == 'f':\n",
        "    bmr = 655.0955 + (9.5634 * (weight * .45)) + (1.8496 * (height * 2.54)) - (4.6756  * age)\n",
        "    return bmr\n",
        "  else:\n",
        "    print('Wrong info entered, try again.')\n",
        "\n",
        "bmr = bmr_calc(gender,height,age,weight)\n",
        "print(\"Basal Metabolic Rate is: \" + str(bmr))"
      ],
      "execution_count": 7,
      "outputs": [
        {
          "output_type": "stream",
          "text": [
            "Are you male or female; input m for male and f for female\n",
            "m\n",
            "Input height in inches\n",
            "65\n",
            "Input age in years\n",
            "22\n",
            "Input weight in lbs\n",
            "176\n",
            "Basal Metabolic Rate is: 1833.03455\n"
          ],
          "name": "stdout"
        }
      ]
    },
    {
      "cell_type": "markdown",
      "metadata": {
        "id": "xvB9DCiTR-vL"
      },
      "source": [
        "## BMR Adjustment for activity level\n",
        "\n",
        "We now adjust BMR by TDEE; essentially adjusting per our exercise level\n",
        "\n",
        "Encode by inputting Sedentary, lightly active, etc as outlined below\n",
        "\n",
        "*   Sedentary (desk job, little excercise)\n",
        "*   Lightly Active (light excercise/sports 1-3 days a week)\n",
        "*   Moderately Active (moderate excercise/sports 6-7 days a week)\n",
        "*   Very Active (hard excercise every day, or 2x a day excercise)\n",
        "*   Extra Active (hard exercise 2+ times a day, or marathon training)\n"
      ]
    },
    {
      "cell_type": "code",
      "metadata": {
        "id": "YJAOOpc4SCyw",
        "outputId": "bff2bdcb-b83d-4cc3-b19f-f98487a88cd1",
        "colab": {
          "base_uri": "https://localhost:8080/"
        }
      },
      "source": [
        "print(\"How active are you? Input activity rate.\")\n",
        "activity_rate = input()\n",
        "\n",
        "if activity_rate == 'Sedentary':\n",
        "  bmr = bmr * 1.2\n",
        "  print(\"Adjusted BMR is now: \" + str(bmr))\n",
        "elif activity_rate == 'Lightly Active':\n",
        "  bmr = bmr * 1.375\n",
        "  print(\"Adjusted BMR is now: \" + str(bmr))\n",
        "elif activity_rate == 'Moderately Active':\n",
        "  bmr = bmr * 1.55\n",
        "  print(\"Adjusted BMR is now: \" + str(bmr))\n",
        "elif activity_rate == 'Very Active':\n",
        "  bmr = bmr * 1.725\n",
        "  print(\"Adjusted BMR is now: \" + str(bmr))\n",
        "elif activity_rate == 'Extra Active':\n",
        "  bmr = bmr * 1.9\n",
        "  print(\"Adjusted BMR is now: \" + str(bmr))\n",
        "else:\n",
        "  print('Wrong input. Try again.')"
      ],
      "execution_count": 8,
      "outputs": [
        {
          "output_type": "stream",
          "text": [
            "How active are you? Input activity rate.\n",
            "Lightly Active\n",
            "Adjusted BMR is now: 2520.42250625\n"
          ],
          "name": "stdout"
        }
      ]
    },
    {
      "cell_type": "markdown",
      "metadata": {
        "id": "iFgz10qCWPxe"
      },
      "source": [
        "## Other Constraint calculations done below"
      ]
    },
    {
      "cell_type": "code",
      "metadata": {
        "id": "wFG-2vJFTlgz",
        "outputId": "2a1ebc2b-e4b7-4c9a-a24c-7221bd0f8ac8",
        "colab": {
          "base_uri": "https://localhost:8080/"
        }
      },
      "source": [
        "#calculating out the bounds \n",
        "\n",
        "#protein has to be this many grams per lb of body weight\n",
        "protein_lb = weight * .7\n",
        "protein_ub = weight * 1\n",
        "\n",
        "#sugar has to be less than 10% of your daily calories\n",
        "#sodium has to be less than 2300 mg\n",
        "sugar_cal_b = bmr * .1\n",
        "sodium_b = 2300\n",
        "\n",
        "#adjusting bmr for weightloss\n",
        "adj_bmr = bmr * .875\n",
        "\n",
        "print(\"Protein lower and upper bound are: \" + str(protein_lb) + \", \" +  str(protein_ub))\n",
        "print(\"Sugar calorie  bound is: \" + str(sugar_cal_b))\n",
        "print(\"Sodium lower bound is: \" + str(sodium_b))\n",
        "print(\"Adjusted BMR for Weightloss is: \" + str(adj_bmr))"
      ],
      "execution_count": 9,
      "outputs": [
        {
          "output_type": "stream",
          "text": [
            "Protein lower and upper bound are: 123.19999999999999, 176.0\n",
            "Fat lower and upper bound are: 44.0, 70.4\n",
            "Sugar calorie  bound is: 252.042250625\n",
            "Sodium lower bound is: 2300\n",
            "Adjusted BMR for Weightloss is: 2205.36969296875\n"
          ],
          "name": "stdout"
        }
      ]
    },
    {
      "cell_type": "markdown",
      "metadata": {
        "id": "Ae9PuKP_uVs2"
      },
      "source": [
        "#**Everything Below is Testing**\n",
        "\n",
        "Was able to create vars for all items. not sure about constraints"
      ]
    },
    {
      "cell_type": "code",
      "metadata": {
        "id": "NNRfuqijj3do",
        "outputId": "0826bc77-566b-4ecb-b9b1-e00577c3ba9a",
        "colab": {
          "base_uri": "https://localhost:8080/",
          "height": 203
        }
      },
      "source": [
        "df.head()"
      ],
      "execution_count": null,
      "outputs": [
        {
          "output_type": "execute_result",
          "data": {
            "text/html": [
              "<div>\n",
              "<style scoped>\n",
              "    .dataframe tbody tr th:only-of-type {\n",
              "        vertical-align: middle;\n",
              "    }\n",
              "\n",
              "    .dataframe tbody tr th {\n",
              "        vertical-align: top;\n",
              "    }\n",
              "\n",
              "    .dataframe thead th {\n",
              "        text-align: right;\n",
              "    }\n",
              "</style>\n",
              "<table border=\"1\" class=\"dataframe\">\n",
              "  <thead>\n",
              "    <tr style=\"text-align: right;\">\n",
              "      <th></th>\n",
              "      <th>Food or Drink</th>\n",
              "      <th>Calories</th>\n",
              "      <th>Protein</th>\n",
              "      <th>Carb</th>\n",
              "      <th>Sodium</th>\n",
              "      <th>Sugar</th>\n",
              "      <th>Weight Watchers Points</th>\n",
              "      <th>Sugar_Calories</th>\n",
              "      <th>food_drink_id</th>\n",
              "    </tr>\n",
              "  </thead>\n",
              "  <tbody>\n",
              "    <tr>\n",
              "      <th>0</th>\n",
              "      <td>Original Chili Cheese Dog, standard bun</td>\n",
              "      <td>320</td>\n",
              "      <td>15</td>\n",
              "      <td>31</td>\n",
              "      <td>1410</td>\n",
              "      <td>4</td>\n",
              "      <td>9</td>\n",
              "      <td>16</td>\n",
              "      <td>zero</td>\n",
              "    </tr>\n",
              "    <tr>\n",
              "      <th>1</th>\n",
              "      <td>Original Chili Dog, standard bun</td>\n",
              "      <td>270</td>\n",
              "      <td>12</td>\n",
              "      <td>31</td>\n",
              "      <td>1160</td>\n",
              "      <td>4</td>\n",
              "      <td>8</td>\n",
              "      <td>16</td>\n",
              "      <td>one</td>\n",
              "    </tr>\n",
              "    <tr>\n",
              "      <th>2</th>\n",
              "      <td>Original Mustard Dog, standard bun</td>\n",
              "      <td>240</td>\n",
              "      <td>10</td>\n",
              "      <td>27</td>\n",
              "      <td>810</td>\n",
              "      <td>4</td>\n",
              "      <td>7</td>\n",
              "      <td>16</td>\n",
              "      <td>two</td>\n",
              "    </tr>\n",
              "    <tr>\n",
              "      <th>3</th>\n",
              "      <td>Original Relish Dog, standard bun</td>\n",
              "      <td>250</td>\n",
              "      <td>10</td>\n",
              "      <td>30</td>\n",
              "      <td>870</td>\n",
              "      <td>6</td>\n",
              "      <td>7</td>\n",
              "      <td>24</td>\n",
              "      <td>three</td>\n",
              "    </tr>\n",
              "    <tr>\n",
              "      <th>4</th>\n",
              "      <td>Original Kraut Dog, standard bun</td>\n",
              "      <td>240</td>\n",
              "      <td>10</td>\n",
              "      <td>28</td>\n",
              "      <td>1040</td>\n",
              "      <td>5</td>\n",
              "      <td>7</td>\n",
              "      <td>20</td>\n",
              "      <td>four</td>\n",
              "    </tr>\n",
              "  </tbody>\n",
              "</table>\n",
              "</div>"
            ],
            "text/plain": [
              "                             Food or Drink  ...  food_drink_id\n",
              "0  Original Chili Cheese Dog, standard bun  ...           zero\n",
              "1         Original Chili Dog, standard bun  ...            one\n",
              "2       Original Mustard Dog, standard bun  ...            two\n",
              "3        Original Relish Dog, standard bun  ...          three\n",
              "4         Original Kraut Dog, standard bun  ...           four\n",
              "\n",
              "[5 rows x 9 columns]"
            ]
          },
          "metadata": {
            "tags": []
          },
          "execution_count": 7
        }
      ]
    },
    {
      "cell_type": "code",
      "metadata": {
        "id": "6-qNtnewSvCe"
      },
      "source": [
        "from pyomo.environ import *\n",
        "SOLVER = 'glpk'\n",
        "EXECUTABLE = '/usr/bin/glpsol'\n",
        "\n",
        "#initialize model\n",
        "model = ConcreteModel()\n",
        "\n",
        "#loop through and create variables\n",
        "model.product = Var(df['food_drink_id'].tolist(),domain=NonNegativeReals)\n",
        "\n",
        "#calorie constraint\n",
        "model.cal_const = ConstraintList()\n",
        "cal_const = \"\"\n",
        "for x in df.values:\n",
        "  cal_const += x[1] * model.product[x[8]]\n",
        "model.cal_const.add(expr = cal_const >= adj_bmr)\n",
        "\n",
        "#protein constraint\n",
        "model.prot_const = ConstraintList()\n",
        "prot_const = \"\"\n",
        "for x in df.values:\n",
        "  prot_const += x[2] * model.product[x[8]]\n",
        "model.prot_const.add(expr = prot_const >= protein_lb)\n",
        "model.prot_const.add(expr = prot_const <= protein_ub)\n",
        "\n",
        "#sugar constraint\n",
        "model.sugar_const = ConstraintList()\n",
        "sugar_const = \"\"\n",
        "for x in df.values:\n",
        "  sugar_const += x[7] * model.product[x[8]]\n",
        "model.sugar_const.add(expr = sugar_const <= sugar_cal_b)\n",
        "\n",
        "#sodium constraint\n",
        "model.sodium_const = ConstraintList()\n",
        "sodium_const = \"\"\n",
        "for x in df.values:\n",
        "  sodium_const += x[4] * model.product[x[8]]\n",
        "model.sodium_const.add(expr = sodium_const <= sodium_b)\n",
        "\n",
        "#objective function\n",
        "obj_expr = ''\n",
        "for x in df.values:\n",
        "  obj_expr += x[6] * model.product[x[8]]\n",
        "model.weight_watchers = Objective(expr = obj_expr, sense=minimize)"
      ],
      "execution_count": 37,
      "outputs": []
    },
    {
      "cell_type": "code",
      "metadata": {
        "id": "A6AwL0objRxu",
        "outputId": "f51e7777-505b-42b0-90b7-064d5ea229c6",
        "colab": {
          "base_uri": "https://localhost:8080/",
          "height": 622
        }
      },
      "source": [
        "# solve it\n",
        "SolverFactory(SOLVER, executable=EXECUTABLE).solve(model).write()\n",
        "\n",
        "# show the results\n",
        "print(\"Cost = \", model.weight_watchers())\n",
        "\n",
        "for x in df:\n",
        "  print(product_name[product], model.product[x[8]]())"
      ],
      "execution_count": 38,
      "outputs": [
        {
          "output_type": "error",
          "ename": "AttributeError",
          "evalue": "ignored",
          "traceback": [
            "\u001b[0;31m---------------------------------------------------------------------------\u001b[0m",
            "\u001b[0;31mAttributeError\u001b[0m                            Traceback (most recent call last)",
            "\u001b[0;32m<ipython-input-38-31a2a900cc13>\u001b[0m in \u001b[0;36m<module>\u001b[0;34m()\u001b[0m\n\u001b[1;32m      1\u001b[0m \u001b[0;31m# solve it\u001b[0m\u001b[0;34m\u001b[0m\u001b[0;34m\u001b[0m\u001b[0;34m\u001b[0m\u001b[0m\n\u001b[0;32m----> 2\u001b[0;31m \u001b[0mSolverFactory\u001b[0m\u001b[0;34m(\u001b[0m\u001b[0mSOLVER\u001b[0m\u001b[0;34m,\u001b[0m \u001b[0mexecutable\u001b[0m\u001b[0;34m=\u001b[0m\u001b[0mEXECUTABLE\u001b[0m\u001b[0;34m)\u001b[0m\u001b[0;34m.\u001b[0m\u001b[0msolve\u001b[0m\u001b[0;34m(\u001b[0m\u001b[0mmodel\u001b[0m\u001b[0;34m)\u001b[0m\u001b[0;34m.\u001b[0m\u001b[0mwrite\u001b[0m\u001b[0;34m(\u001b[0m\u001b[0;34m)\u001b[0m\u001b[0;34m\u001b[0m\u001b[0;34m\u001b[0m\u001b[0m\n\u001b[0m\u001b[1;32m      3\u001b[0m \u001b[0;34m\u001b[0m\u001b[0m\n\u001b[1;32m      4\u001b[0m \u001b[0;31m# show the results\u001b[0m\u001b[0;34m\u001b[0m\u001b[0;34m\u001b[0m\u001b[0;34m\u001b[0m\u001b[0m\n\u001b[1;32m      5\u001b[0m \u001b[0mprint\u001b[0m\u001b[0;34m(\u001b[0m\u001b[0;34m\"Cost = \"\u001b[0m\u001b[0;34m,\u001b[0m \u001b[0mmodel\u001b[0m\u001b[0;34m.\u001b[0m\u001b[0mweight_watchers\u001b[0m\u001b[0;34m(\u001b[0m\u001b[0;34m)\u001b[0m\u001b[0;34m)\u001b[0m\u001b[0;34m\u001b[0m\u001b[0;34m\u001b[0m\u001b[0m\n",
            "\u001b[0;32m/usr/local/lib/python3.6/dist-packages/pyomo/opt/base/solvers.py\u001b[0m in \u001b[0;36msolve\u001b[0;34m(self, *args, **kwds)\u001b[0m\n\u001b[1;32m    571\u001b[0m             \u001b[0minitial_time\u001b[0m \u001b[0;34m=\u001b[0m \u001b[0mtime\u001b[0m\u001b[0;34m.\u001b[0m\u001b[0mtime\u001b[0m\u001b[0;34m(\u001b[0m\u001b[0;34m)\u001b[0m\u001b[0;34m\u001b[0m\u001b[0;34m\u001b[0m\u001b[0m\n\u001b[1;32m    572\u001b[0m \u001b[0;34m\u001b[0m\u001b[0m\n\u001b[0;32m--> 573\u001b[0;31m             \u001b[0mself\u001b[0m\u001b[0;34m.\u001b[0m\u001b[0m_presolve\u001b[0m\u001b[0;34m(\u001b[0m\u001b[0;34m*\u001b[0m\u001b[0margs\u001b[0m\u001b[0;34m,\u001b[0m \u001b[0;34m**\u001b[0m\u001b[0mkwds\u001b[0m\u001b[0;34m)\u001b[0m\u001b[0;34m\u001b[0m\u001b[0;34m\u001b[0m\u001b[0m\n\u001b[0m\u001b[1;32m    574\u001b[0m \u001b[0;34m\u001b[0m\u001b[0m\n\u001b[1;32m    575\u001b[0m             \u001b[0mpresolve_completion_time\u001b[0m \u001b[0;34m=\u001b[0m \u001b[0mtime\u001b[0m\u001b[0;34m.\u001b[0m\u001b[0mtime\u001b[0m\u001b[0;34m(\u001b[0m\u001b[0;34m)\u001b[0m\u001b[0;34m\u001b[0m\u001b[0;34m\u001b[0m\u001b[0m\n",
            "\u001b[0;32m/usr/local/lib/python3.6/dist-packages/pyomo/opt/solver/shellcmd.py\u001b[0m in \u001b[0;36m_presolve\u001b[0;34m(self, *args, **kwds)\u001b[0m\n\u001b[1;32m    196\u001b[0m         \u001b[0mself\u001b[0m\u001b[0;34m.\u001b[0m\u001b[0m_define_signal_handlers\u001b[0m \u001b[0;34m=\u001b[0m \u001b[0mkwds\u001b[0m\u001b[0;34m.\u001b[0m\u001b[0mpop\u001b[0m\u001b[0;34m(\u001b[0m\u001b[0;34m'use_signal_handling'\u001b[0m\u001b[0;34m,\u001b[0m\u001b[0;32mNone\u001b[0m\u001b[0;34m)\u001b[0m\u001b[0;34m\u001b[0m\u001b[0;34m\u001b[0m\u001b[0m\n\u001b[1;32m    197\u001b[0m \u001b[0;34m\u001b[0m\u001b[0m\n\u001b[0;32m--> 198\u001b[0;31m         \u001b[0mOptSolver\u001b[0m\u001b[0;34m.\u001b[0m\u001b[0m_presolve\u001b[0m\u001b[0;34m(\u001b[0m\u001b[0mself\u001b[0m\u001b[0;34m,\u001b[0m \u001b[0;34m*\u001b[0m\u001b[0margs\u001b[0m\u001b[0;34m,\u001b[0m \u001b[0;34m**\u001b[0m\u001b[0mkwds\u001b[0m\u001b[0;34m)\u001b[0m\u001b[0;34m\u001b[0m\u001b[0;34m\u001b[0m\u001b[0m\n\u001b[0m\u001b[1;32m    199\u001b[0m \u001b[0;34m\u001b[0m\u001b[0m\n\u001b[1;32m    200\u001b[0m         \u001b[0;31m#\u001b[0m\u001b[0;34m\u001b[0m\u001b[0;34m\u001b[0m\u001b[0;34m\u001b[0m\u001b[0m\n",
            "\u001b[0;32m/usr/local/lib/python3.6/dist-packages/pyomo/opt/base/solvers.py\u001b[0m in \u001b[0;36m_presolve\u001b[0;34m(self, *args, **kwds)\u001b[0m\n\u001b[1;32m    671\u001b[0m                                       \u001b[0mself\u001b[0m\u001b[0;34m.\u001b[0m\u001b[0m_problem_format\u001b[0m\u001b[0;34m,\u001b[0m\u001b[0;34m\u001b[0m\u001b[0;34m\u001b[0m\u001b[0m\n\u001b[1;32m    672\u001b[0m                                       \u001b[0mself\u001b[0m\u001b[0;34m.\u001b[0m\u001b[0m_valid_problem_formats\u001b[0m\u001b[0;34m,\u001b[0m\u001b[0;34m\u001b[0m\u001b[0;34m\u001b[0m\u001b[0m\n\u001b[0;32m--> 673\u001b[0;31m                                       **kwds)\n\u001b[0m\u001b[1;32m    674\u001b[0m             \u001b[0mtotal_time\u001b[0m \u001b[0;34m=\u001b[0m \u001b[0mtime\u001b[0m\u001b[0;34m.\u001b[0m\u001b[0mtime\u001b[0m\u001b[0;34m(\u001b[0m\u001b[0;34m)\u001b[0m \u001b[0;34m-\u001b[0m \u001b[0mwrite_start_time\u001b[0m\u001b[0;34m\u001b[0m\u001b[0;34m\u001b[0m\u001b[0m\n\u001b[1;32m    675\u001b[0m             \u001b[0;32mif\u001b[0m \u001b[0mself\u001b[0m\u001b[0;34m.\u001b[0m\u001b[0m_report_timing\u001b[0m\u001b[0;34m:\u001b[0m\u001b[0;34m\u001b[0m\u001b[0;34m\u001b[0m\u001b[0m\n",
            "\u001b[0;32m/usr/local/lib/python3.6/dist-packages/pyomo/opt/base/solvers.py\u001b[0m in \u001b[0;36m_convert_problem\u001b[0;34m(self, args, problem_format, valid_problem_formats, **kwds)\u001b[0m\n\u001b[1;32m    742\u001b[0m                                \u001b[0mvalid_problem_formats\u001b[0m\u001b[0;34m,\u001b[0m\u001b[0;34m\u001b[0m\u001b[0;34m\u001b[0m\u001b[0m\n\u001b[1;32m    743\u001b[0m                                \u001b[0mself\u001b[0m\u001b[0;34m.\u001b[0m\u001b[0mhas_capability\u001b[0m\u001b[0;34m,\u001b[0m\u001b[0;34m\u001b[0m\u001b[0;34m\u001b[0m\u001b[0m\n\u001b[0;32m--> 744\u001b[0;31m                                **kwds)\n\u001b[0m\u001b[1;32m    745\u001b[0m \u001b[0;34m\u001b[0m\u001b[0m\n\u001b[1;32m    746\u001b[0m     \u001b[0;32mdef\u001b[0m \u001b[0m_default_results_format\u001b[0m\u001b[0;34m(\u001b[0m\u001b[0mself\u001b[0m\u001b[0;34m,\u001b[0m \u001b[0mprob_format\u001b[0m\u001b[0;34m)\u001b[0m\u001b[0;34m:\u001b[0m\u001b[0;34m\u001b[0m\u001b[0;34m\u001b[0m\u001b[0m\n",
            "\u001b[0;32m/usr/local/lib/python3.6/dist-packages/pyomo/opt/base/convert.py\u001b[0m in \u001b[0;36mconvert_problem\u001b[0;34m(args, target_problem_type, valid_problem_types, has_capability, **kwds)\u001b[0m\n\u001b[1;32m    103\u001b[0m                     \u001b[0mtmpkw\u001b[0m \u001b[0;34m=\u001b[0m \u001b[0mkwds\u001b[0m\u001b[0;34m\u001b[0m\u001b[0;34m\u001b[0m\u001b[0m\n\u001b[1;32m    104\u001b[0m                     \u001b[0mtmpkw\u001b[0m\u001b[0;34m[\u001b[0m\u001b[0;34m'capabilities'\u001b[0m\u001b[0;34m]\u001b[0m \u001b[0;34m=\u001b[0m \u001b[0mhas_capability\u001b[0m\u001b[0;34m\u001b[0m\u001b[0;34m\u001b[0m\u001b[0m\n\u001b[0;32m--> 105\u001b[0;31m                     \u001b[0mproblem_files\u001b[0m\u001b[0;34m,\u001b[0m \u001b[0msymbol_map\u001b[0m \u001b[0;34m=\u001b[0m \u001b[0mconverter\u001b[0m\u001b[0;34m.\u001b[0m\u001b[0mapply\u001b[0m\u001b[0;34m(\u001b[0m\u001b[0;34m*\u001b[0m\u001b[0mtmp\u001b[0m\u001b[0;34m,\u001b[0m \u001b[0;34m**\u001b[0m\u001b[0mtmpkw\u001b[0m\u001b[0;34m)\u001b[0m\u001b[0;34m\u001b[0m\u001b[0;34m\u001b[0m\u001b[0m\n\u001b[0m\u001b[1;32m    106\u001b[0m                     \u001b[0;32mreturn\u001b[0m \u001b[0mproblem_files\u001b[0m\u001b[0;34m,\u001b[0m \u001b[0mptype\u001b[0m\u001b[0;34m,\u001b[0m \u001b[0msymbol_map\u001b[0m\u001b[0;34m\u001b[0m\u001b[0;34m\u001b[0m\u001b[0m\n\u001b[1;32m    107\u001b[0m \u001b[0;34m\u001b[0m\u001b[0m\n",
            "\u001b[0;32m/usr/local/lib/python3.6/dist-packages/pyomo/solvers/plugins/converter/model.py\u001b[0m in \u001b[0;36mapply\u001b[0;34m(self, *args, **kwds)\u001b[0m\n\u001b[1;32m     86\u001b[0m                             \u001b[0mformat\u001b[0m\u001b[0;34m=\u001b[0m\u001b[0mProblemFormat\u001b[0m\u001b[0;34m.\u001b[0m\u001b[0mcpxlp\u001b[0m\u001b[0;34m,\u001b[0m\u001b[0;34m\u001b[0m\u001b[0;34m\u001b[0m\u001b[0m\n\u001b[1;32m     87\u001b[0m                             \u001b[0msolver_capability\u001b[0m\u001b[0;34m=\u001b[0m\u001b[0mcapabilities\u001b[0m\u001b[0;34m,\u001b[0m\u001b[0;34m\u001b[0m\u001b[0;34m\u001b[0m\u001b[0m\n\u001b[0;32m---> 88\u001b[0;31m                             io_options=io_options)\n\u001b[0m\u001b[1;32m     89\u001b[0m                 \u001b[0;32mreturn\u001b[0m \u001b[0;34m(\u001b[0m\u001b[0mproblem_filename\u001b[0m\u001b[0;34m,\u001b[0m\u001b[0;34m)\u001b[0m\u001b[0;34m,\u001b[0m \u001b[0msymbol_map_id\u001b[0m\u001b[0;34m\u001b[0m\u001b[0;34m\u001b[0m\u001b[0m\n\u001b[1;32m     90\u001b[0m             \u001b[0;32melse\u001b[0m\u001b[0;34m:\u001b[0m\u001b[0;34m\u001b[0m\u001b[0;34m\u001b[0m\u001b[0m\n",
            "\u001b[0;32m/usr/local/lib/python3.6/dist-packages/pyomo/core/base/block.py\u001b[0m in \u001b[0;36mwrite\u001b[0;34m(self, filename, format, solver_capability, io_options)\u001b[0m\n\u001b[1;32m   1787\u001b[0m                                           \u001b[0mfilename\u001b[0m\u001b[0;34m,\u001b[0m\u001b[0;34m\u001b[0m\u001b[0;34m\u001b[0m\u001b[0m\n\u001b[1;32m   1788\u001b[0m                                           \u001b[0msolver_capability\u001b[0m\u001b[0;34m,\u001b[0m\u001b[0;34m\u001b[0m\u001b[0;34m\u001b[0m\u001b[0m\n\u001b[0;32m-> 1789\u001b[0;31m                                           io_options)\n\u001b[0m\u001b[1;32m   1790\u001b[0m         \u001b[0msmap_id\u001b[0m \u001b[0;34m=\u001b[0m \u001b[0mid\u001b[0m\u001b[0;34m(\u001b[0m\u001b[0msmap\u001b[0m\u001b[0;34m)\u001b[0m\u001b[0;34m\u001b[0m\u001b[0;34m\u001b[0m\u001b[0m\n\u001b[1;32m   1791\u001b[0m         \u001b[0;32mif\u001b[0m \u001b[0;32mnot\u001b[0m \u001b[0mhasattr\u001b[0m\u001b[0;34m(\u001b[0m\u001b[0mself\u001b[0m\u001b[0;34m,\u001b[0m \u001b[0;34m'solutions'\u001b[0m\u001b[0;34m)\u001b[0m\u001b[0;34m:\u001b[0m\u001b[0;34m\u001b[0m\u001b[0;34m\u001b[0m\u001b[0m\n",
            "\u001b[0;32mpyomo/repn/plugins/cpxlp.pyx\u001b[0m in \u001b[0;36mpyomo.repn.plugins.cpxlp.ProblemWriter_cpxlp.__call__\u001b[0;34m()\u001b[0m\n",
            "\u001b[0;32mpyomo/repn/plugins/cpxlp.pyx\u001b[0m in \u001b[0;36mpyomo.repn.plugins.cpxlp.ProblemWriter_cpxlp.__call__\u001b[0;34m()\u001b[0m\n",
            "\u001b[0;32mpyomo/repn/plugins/cpxlp.pyx\u001b[0m in \u001b[0;36mpyomo.repn.plugins.cpxlp.ProblemWriter_cpxlp.__call__\u001b[0;34m()\u001b[0m\n",
            "\u001b[0;32mpyomo/repn/plugins/cpxlp.pyx\u001b[0m in \u001b[0;36mpyomo.repn.plugins.cpxlp.ProblemWriter_cpxlp._print_model_LP\u001b[0;34m()\u001b[0m\n",
            "\u001b[0;32mpyomo/repn/standard_repn.pyx\u001b[0m in \u001b[0;36mpyomo.repn.standard_repn.generate_standard_repn\u001b[0;34m()\u001b[0m\n",
            "\u001b[0;32mpyomo/repn/standard_repn.pyx\u001b[0m in \u001b[0;36mpyomo.repn.standard_repn._generate_standard_repn\u001b[0;34m()\u001b[0m\n",
            "\u001b[0;32mpyomo/repn/standard_repn.pyx\u001b[0m in \u001b[0;36mpyomo.repn.standard_repn._collect_sum\u001b[0;34m()\u001b[0m\n",
            "\u001b[0;31mAttributeError\u001b[0m: 'str' object has no attribute 'is_variable_type'"
          ]
        }
      ]
    },
    {
      "cell_type": "code",
      "metadata": {
        "id": "ZfPDGHTgZnce"
      },
      "source": [
        ""
      ],
      "execution_count": null,
      "outputs": []
    },
    {
      "cell_type": "code",
      "metadata": {
        "id": "5GxjnFRSl0eI"
      },
      "source": [
        "\n",
        "%matplotlib inline\n",
        "from pylab import *\n",
        "\n",
        "import shutil\n",
        "import sys\n",
        "import os.path\n",
        "\n",
        "if not shutil.which(\"pyomo\"):\n",
        "    !pip install -q pyomo\n",
        "    assert(shutil.which(\"pyomo\"))\n",
        "\n",
        "if not (shutil.which(\"glpsol\") or os.path.isfile(\"glpsol\")):\n",
        "    if \"google.colab\" in sys.modules:\n",
        "        !apt-get install -y -qq glpk-utils\n",
        "    else:\n",
        "        try:\n",
        "            !conda install -c conda-forge ipopt\n",
        "        except:\n",
        "            pass\n",
        "\n",
        "assert(shutil.which(\"glpsol\") or os.path.isfile(\"glpsol\"))\n",
        "\n",
        "from pyomo.environ import *\n",
        "\n",
        "SOLVER = 'glpk'\n",
        "EXECUTABLE = '/usr/bin/glpsol'"
      ],
      "execution_count": 36,
      "outputs": []
    },
    {
      "cell_type": "code",
      "metadata": {
        "id": "E3cyP87cl0z5"
      },
      "source": [
        ""
      ],
      "execution_count": null,
      "outputs": []
    }
  ]
}