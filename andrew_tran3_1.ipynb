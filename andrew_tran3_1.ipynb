{
  "nbformat": 4,
  "nbformat_minor": 0,
  "metadata": {
    "colab": {
      "name": "andrew_tran3.1.ipynb",
      "provenance": [],
      "collapsed_sections": [],
      "include_colab_link": true
    },
    "kernelspec": {
      "display_name": "Python 3",
      "language": "python",
      "name": "python3"
    }
  },
  "cells": [
    {
      "cell_type": "markdown",
      "metadata": {
        "id": "view-in-github",
        "colab_type": "text"
      },
      "source": [
        "<a href=\"https://colab.research.google.com/github/ctandrewtran/andrewtran/blob/master/andrew_tran3_1.ipynb\" target=\"_parent\"><img src=\"https://colab.research.google.com/assets/colab-badge.svg\" alt=\"Open In Colab\"/></a>"
      ]
    },
    {
      "cell_type": "markdown",
      "metadata": {
        "id": "3Vh5H9zZwHpD"
      },
      "source": [
        "# Individual Assignment M3.1: Dahlby Outfitters (Extracted from the textbook)\n",
        "\n",
        "-------------------------------------------------------------------------\n",
        "* Andrew Tran\n",
        "* ant16112\n",
        "\n",
        "\n",
        "## Problem statement\n",
        "\n",
        "Dahlby Outfitters wishes to introduce packaged trail mix as a new product.  The ingredients for the train mix are seeds, raisins, flakes, and two kinds of nuts.  Each ingredient contains certain amounts of vitamins, minerals, protein, and calories.  The marketing department has specified that the product be designed so that a certain minimum nutritional profile is met.  The decision problem is to determine the optimal product composition, that is, to minimize the product cost by choosing the amount for each ingredient in the mix.  The data is given below:\n",
        "\n",
        "--- | Seeds | Raisins | Flakes | Pecans | Walnuts |Nutritional Req. |\n",
        "---| --- | --- | --- | ---| ---| ---|\n",
        "Vitamins |    10             | 20               | 10            |30              | 20               | 20                    |\n",
        "Minerals   | 5              | 7                | 4               | 9               | 2                | 10                               \n",
        "Protein    | 1              | 4                | 10              | 2               | 1                | 15                               \n",
        "Calories   | 500            | 450              | 160             | 300             | 500              | 600                              \n",
        "| --- | --- | --- | ---| ---| ---|\n",
        "Cost/Pound | 4              | 5                | 3               | 7               | 6           "
      ]
    },
    {
      "cell_type": "markdown",
      "metadata": {
        "id": "JikV0YAtwHpE"
      },
      "source": [
        "## 1\n",
        "\n",
        "Model the problem as an LP and find the number of pounds of each ingredient Dahlby Outfitters should use in order to satisfy the nutritional requirements while minimizing total cost. What is the optimal solution and the optimal value?\n",
        "\n",
        "**The Optimal solution is 0.48 Seeds, 0.33 Raisins, and 1.32 Flakes (others are zero). Optimal value is $7.54.**"
      ]
    },
    {
      "cell_type": "code",
      "metadata": {
        "id": "KtkYdjAswHpL"
      },
      "source": [
        "from pyomo.environ import *\n",
        "\n",
        "SOLVER = 'glpk'\n",
        "EXECUTABLE = '/usr/bin/glpsol'\n",
        "\n",
        "#initialize model\n",
        "model = ConcreteModel()\n",
        "\n",
        "#setting constraints for seeds, raisons, flakes, pecans, and walnuts\n",
        "#cant have negative ingredients but upper bound can be whatevers best for the optimal solution\n",
        "model.s = Var(domain=NonNegativeReals, bounds=(0,None))\n",
        "model.r = Var(domain=NonNegativeReals, bounds=(0,None))\n",
        "model.f = Var(domain=NonNegativeReals, bounds=(0,None))\n",
        "model.p = Var(domain=NonNegativeReals, bounds=(0,None))\n",
        "model.w = Var(domain=NonNegativeReals, bounds=(0,None))\n",
        "\n",
        "#creating objective function to minimize costs depending on ingredient costs\n",
        "model.cost = Objective(\n",
        "    expr = 4*model.s + 5*model.r + 3*model.f + 7*model.p + 6*model.w, sense=minimize\n",
        "    )\n",
        "\n",
        "#setting up nutritional constraints\n",
        "model.vitamin = Constraint(expr = 10*model.s + 20*model.r + 10*model.f + 30*model.p + 20*model.w >=20)\n",
        "model.mineral = Constraint(expr = 5*model.s + 7*model.r + 4*model.f + 9*model.p + 2*model.w >=10)\n",
        "model.protein = Constraint(expr = 1*model.s + 4*model.r + 10*model.f + 2*model.p + 1*model.w >=15)\n",
        "model.calorie = Constraint(expr = 500*model.s + 450*model.r + 160*model.f + 300*model.p + 500*model.w >=600)"
      ],
      "execution_count": 76,
      "outputs": []
    },
    {
      "cell_type": "code",
      "metadata": {
        "id": "CBRo5307wHpO",
        "outputId": "eafbfd47-a16d-4528-85bb-9daa5adb5f25",
        "colab": {
          "base_uri": "https://localhost:8080/",
          "height": 54
        }
      },
      "source": [
        "#took out the .write to get more room on my screen\n",
        "SolverFactory(SOLVER, executable=EXECUTABLE).solve(model)"
      ],
      "execution_count": 77,
      "outputs": [
        {
          "output_type": "execute_result",
          "data": {
            "text/plain": [
              "{'Problem': [{'Name': 'unknown', 'Lower bound': 7.53579952267303, 'Upper bound': 7.53579952267303, 'Number of objectives': 1, 'Number of constraints': 5, 'Number of variables': 6, 'Number of nonzeros': 21, 'Sense': 'minimize'}], 'Solver': [{'Status': 'ok', 'Termination condition': 'optimal', 'Statistics': {'Branch and bound': {'Number of bounded subproblems': 0, 'Number of created subproblems': 0}}, 'Error rc': 0, 'Time': 0.011442184448242188}], 'Solution': [OrderedDict([('number of solutions', 0), ('number of solutions displayed', 0)])]}"
            ]
          },
          "metadata": {
            "tags": []
          },
          "execution_count": 77
        }
      ]
    },
    {
      "cell_type": "code",
      "metadata": {
        "id": "FjBt93Q9xcBC",
        "outputId": "37521388-0df6-49b1-bebe-2356b7c76e92",
        "colab": {
          "base_uri": "https://localhost:8080/",
          "height": 121
        }
      },
      "source": [
        "# show the results\n",
        "print(\"cost = \", model.cost())\n",
        "print(\"seeds = \", model.s())\n",
        "print(\"raisons = \", model.r())\n",
        "print(\"flakes = \", model.f())\n",
        "print(\"pecans = \", model.p())\n",
        "print(\"walnuts = \", model.w())"
      ],
      "execution_count": 78,
      "outputs": [
        {
          "output_type": "stream",
          "text": [
            "cost =  7.5357995226730425\n",
            "seeds =  0.477326968973747\n",
            "raisons =  0.334128878281623\n",
            "flakes =  1.31861575178998\n",
            "pecans =  0.0\n",
            "walnuts =  0.0\n"
          ],
          "name": "stdout"
        }
      ]
    },
    {
      "cell_type": "markdown",
      "metadata": {
        "id": "X2Fezfb4wHpR"
      },
      "source": [
        "## 2\n",
        "\n",
        "Suppose that Dahlby want to ensure that at least 0.15 pounds of each ingredient is included in the package. Add this restriction to the model. What is the optimal solution and the optimal value now?\n",
        "\n",
        "**The Optimal solution is 0.39 Seeds, 0.15 Raisins, 1.36 Flakes, 0.15 Pecans, and 0.15 Walnuts. Optimal value is $8.33.**"
      ]
    },
    {
      "cell_type": "code",
      "metadata": {
        "id": "Ob1VSGeUwHpR",
        "outputId": "3d8462f0-15fa-4834-9579-eca44db073ce",
        "colab": {
          "base_uri": "https://localhost:8080/",
          "height": 138
        }
      },
      "source": [
        "from pyomo.environ import *\n",
        "\n",
        "SOLVER = 'glpk'\n",
        "EXECUTABLE = '/usr/bin/glpsol'\n",
        "\n",
        "\n",
        "#### note- same var name for model as above so beware running in non top to bottom order\n",
        "model = ConcreteModel()\n",
        "\n",
        "#changed lower bound to reflect .15 minimum ingredient constraint\n",
        "model.s = Var(domain=NonNegativeReals, bounds=(.15,None))\n",
        "model.r = Var(domain=NonNegativeReals, bounds=(.15,None))\n",
        "model.f = Var(domain=NonNegativeReals, bounds=(.15,None))\n",
        "model.p = Var(domain=NonNegativeReals, bounds=(.15,None))\n",
        "model.w = Var(domain=NonNegativeReals, bounds=(.15,None))\n",
        "\n",
        "#same objective cost function\n",
        "model.cost = Objective(\n",
        "    expr = 4*model.s + 5*model.r + 3*model.f + 7*model.p + 6*model.w, sense=minimize\n",
        "    )\n",
        "\n",
        "#constraints remained the same. also could have implented the lower bound constraint here but wouldve been less conveinent \n",
        "model.vitamin = Constraint(expr = 10*model.s + 20*model.r + 10*model.f + 30*model.p + 20*model.w >=20)\n",
        "model.mineral = Constraint(expr = 5*model.s + 7*model.r + 4*model.f + 9*model.p + 2*model.w >=10)\n",
        "model.protein = Constraint(expr = 1*model.s + 4*model.r + 10*model.f + 2*model.p + 1*model.w >=15)\n",
        "model.calorie = Constraint(expr = 500*model.s + 450*model.r + 160*model.f + 300*model.p + 500*model.w >=600)\n",
        "\n",
        "#solve it!\n",
        "SolverFactory(SOLVER, executable=EXECUTABLE).solve(model)\n",
        "\n",
        "\n",
        "# show the results\n",
        "print( \" \")\n",
        "print(\"cost = \", model.cost())\n",
        "print(\"seeds = \", model.s())\n",
        "print(\"raisons = \", model.r())\n",
        "print(\"flakes = \", model.f())\n",
        "print(\"pecans = \", model.p())\n",
        "print(\"walnuts = \", model.w())"
      ],
      "execution_count": 79,
      "outputs": [
        {
          "output_type": "stream",
          "text": [
            " \n",
            "cost =  8.332128099173566\n",
            "seeds =  0.391115702479339\n",
            "raisons =  0.15\n",
            "flakes =  1.35588842975207\n",
            "pecans =  0.15\n",
            "walnuts =  0.15\n"
          ],
          "name": "stdout"
        }
      ]
    },
    {
      "cell_type": "markdown",
      "metadata": {
        "id": "6IVzWx632Flg"
      },
      "source": [
        "## 3\n",
        "\n",
        "Dahlby would like to know how the optimal value and the optimal solution will change as parameters in the model are modified, using the restriction above that at least 0.15 pounds of each ingredient needs to be included in the mix. You should answer the following questions using the sensitivity report (i.e., without changing parameters and re-optimizing the model).\n"
      ]
    },
    {
      "cell_type": "markdown",
      "metadata": {
        "id": "exHOMpgp2UXI"
      },
      "source": [
        "**Suppose that the cost per pound for pecans increases to $9. What is the optimal solution now? What is the optimal value?**\n",
        "\n",
        "Same optimal solution.\n",
        "\n",
        "Optimal value = 8.3 + (9 - 7) * .15 --> 8.6\n",
        "\n",
        "**Suppose that the cost per pound for pecans decreases to $4. What is the optimal solution now? What is the optimal value?**\n",
        "\n",
        "Same optimal solution.\n",
        "\n",
        "\n",
        "Optimal value = 8.3 + (4 - 7) * .15 --> 7.85\n",
        "\n",
        "**Suppose that the cost per pound for pecans decreases to $2. What is the optimal solution now? What is the optimal value?**\n",
        "\n",
        "Out of bounds; cannot discern optimal solution or value\n",
        "\n",
        "**Suppose that the cost per pound for flakes increases to $7. What is the optimal solution now? What is the optimal value?**\n",
        "\n",
        "Out of bounds; cannot discern optimal solution or value.\n",
        "\n",
        "**Suppose that the cost per pound for flakes increases to $3.50. What is the optimal solution now? What is the optimal value?**\n",
        "\n",
        "Same optimal solution\n",
        "\n",
        "Optimal value = 8.33 + (1.35) * .5 --> 9\n",
        "\n",
        "**Suppose that the cost per pound for flakes decreases to $1.50. What is the optimal solution now? What is the optimal value?**\n",
        "\n",
        "Optimal solution stays the same.\n",
        "\n",
        "Optimal value = 8.33 - (1.35) * 1.5 --> 6.3\n",
        "\n",
        "**Suppose that the cost per pound for flakes decreases to $1.00. What is the optimal solution now? What is the optimal value?**\n",
        "\n",
        "Out of bounds; cannot discern optimal solution or value.\n",
        "\n",
        "\n",
        "**Suppose we drop the restriction on the amount of grams of minerals required. What is the optimal solution now? What is the optimal value?**\n",
        "\n",
        "Out of bounds, but optimal solution is not changed due to non binding constraint.\n",
        "\n",
        "**Suppose we raise the restriction on the amount of grams of minerals required to 11. What is the optimal solution now? What is the optimal value?**\n",
        "\n",
        "Out of bounds; cannot discern optimal solution or value.\n",
        "\n",
        "**Suppose we raise the restriction on the amount of grams of protein required to 17. What is the optimal solution now? What is the optimal value?**\n",
        "\n",
        "Optimal value = 8.33 + (17-15) * .17 --> 8.67\n",
        "\n",
        "Optimal solution stays the same."
      ]
    },
    {
      "cell_type": "code",
      "metadata": {
        "id": "lmx1zG1j32tc"
      },
      "source": [
        "from pyomo.environ import *\n",
        "\n",
        "#using aboves model, print out the sensitivity report\n",
        "#i commented it out and referred to it via the HW as it took up a lot of room on my screen\n",
        "\n",
        "#model.write(\"/content/model.lp\", io_options={'symbolic_solver_labels': True})\n",
        "\n",
        "# After running the line below, we will generate the file \"sensit.sen\", which contains the report we want to see\n",
        "#!/usr/bin/glpsol -m /content/model.lp --lp --ranges sensit.sen\n",
        "\n",
        "#!cat /content/sensit.sen"
      ],
      "execution_count": 82,
      "outputs": []
    },
    {
      "cell_type": "markdown",
      "metadata": {
        "id": "b3zqMqsu93Yh"
      },
      "source": [
        "## 4\n",
        "\n",
        "Suppose now that we drop the restriction of 0.15 pounds for each ingredient.  This is because we have found out that what Dahlby is really interested in is that in the final mix, at least 10\\% of the mix is devoted to each ingredient.  Create the model now and solve for the optimal value. \n",
        "\n",
        "**The optimal solution is 0.22 Seeds, 0.22 Raisins, 1.33 Flakes, 0.22 Pecans, and 0.22 Walnuts; the optimal value is \\$8.84.**"
      ]
    },
    {
      "cell_type": "code",
      "metadata": {
        "id": "UnHXSLUN92yp",
        "outputId": "c3aaff0f-8986-4175-98dd-d658f1ca73d9",
        "colab": {
          "base_uri": "https://localhost:8080/",
          "height": 138
        }
      },
      "source": [
        "from pyomo.environ import *\n",
        "\n",
        "SOLVER = 'glpk'\n",
        "EXECUTABLE = '/usr/bin/glpsol'\n",
        "\n",
        "\n",
        "#note- same model var name as above so beware running in non top to bottom order\n",
        "model = ConcreteModel()\n",
        "\n",
        "#bounds are any non negative number\n",
        "model.s = Var(domain=NonNegativeReals, bounds=(0,None))\n",
        "model.r = Var(domain=NonNegativeReals, bounds=(0,None))\n",
        "model.f = Var(domain=NonNegativeReals, bounds=(0,None))\n",
        "model.p = Var(domain=NonNegativeReals, bounds=(0,None))\n",
        "model.w = Var(domain=NonNegativeReals, bounds=(0,None))\n",
        "\n",
        "#same objective cost function\n",
        "model.cost = Objective(\n",
        "    expr = 4*model.s + 5*model.r + 3*model.f + 7*model.p + 6*model.w, sense=minimize\n",
        "    )\n",
        "\n",
        "###the 10 percent constraint expressed non linearly. will throw error\n",
        "#model.s10p = Constraint(expr = model.s / (model.s + model.r + model.f + model.p + model.w) >=.1)\n",
        "#model.r10p = Constraint(expr = model.r / (model.s + model.r + model.f + model.p + model.w) >=.1)\n",
        "#model.f10p = Constraint(expr = model.f / (model.s + model.r + model.f + model.p + model.w) >=.1)\n",
        "#model.p10p = Constraint(expr = model.p / (model.s + model.r + model.f + model.p + model.w) >=.1)\n",
        "#model.w10p = Constraint(expr = model.w / (model.s + model.r + model.f + model.p + model.w) >=.1)\n",
        "\n",
        "\n",
        "#constraints remained the same. also could have implented the lower bound constraint here but wouldve been less conveinent \n",
        "model.vitamin = Constraint(expr = 10*model.s + 20*model.r + 10*model.f + 30*model.p + 20*model.w >=20)\n",
        "model.mineral = Constraint(expr = 5*model.s + 7*model.r + 4*model.f + 9*model.p + 2*model.w >=10)\n",
        "model.protein = Constraint(expr = 1*model.s + 4*model.r + 10*model.f + 2*model.p + 1*model.w >=15)\n",
        "model.calorie = Constraint(expr = 500*model.s + 450*model.r + 160*model.f + 300*model.p + 500*model.w >=600)\n",
        "\n",
        "#the 10 percent constraint expressed linearly\n",
        "model.s10p = Constraint(expr = .9*model.s - .1*model.r - .1*model.f - .1*model.p - .1*model.w >=0)\n",
        "model.r10p = Constraint(expr = .9*model.r - .1*model.s - .1*model.f - .1*model.p - .1*model.w >=0)\n",
        "model.f10p = Constraint(expr = .9*model.f - .1*model.s - .1* model.r  - .1*model.p - .1* model.w >=0)\n",
        "model.p10p = Constraint(expr = .9*model.p - .1*model.s - .1*model.r - .1*model.f  - .1*model.w >=0)\n",
        "model.w10p = Constraint(expr = .9*model.w - .1*model.s - .1*model.r - .1* model.f - .1*model.p >=0)\n",
        "\n",
        "#solve it!\n",
        "SolverFactory(SOLVER, executable=EXECUTABLE).solve(model)\n",
        "\n",
        "\n",
        "# show the results\n",
        "print( \" \")\n",
        "print(\"cost = \", model.cost())\n",
        "print(\"seeds = \", model.s())\n",
        "print(\"raisons = \", model.r())\n",
        "print(\"flakes = \", model.f())\n",
        "print(\"pecans = \", model.p())\n",
        "print(\"walnuts = \", model.w())"
      ],
      "execution_count": 72,
      "outputs": [
        {
          "output_type": "stream",
          "text": [
            " \n",
            "cost =  8.84340138918124\n",
            "seeds =  0.224163334034939\n",
            "raisons =  0.22100610397811\n",
            "flakes =  1.32287939381183\n",
            "pecans =  0.221006103978112\n",
            "walnuts =  0.22100610397811\n"
          ],
          "name": "stdout"
        }
      ]
    },
    {
      "cell_type": "code",
      "metadata": {
        "id": "OQPI9vLWwHpW"
      },
      "source": [
        ""
      ],
      "execution_count": null,
      "outputs": []
    },
    {
      "cell_type": "code",
      "metadata": {
        "id": "4QhIBnMkwHpc"
      },
      "source": [
        ""
      ],
      "execution_count": null,
      "outputs": []
    },
    {
      "cell_type": "markdown",
      "metadata": {
        "id": "OQdVa63y7pYD"
      },
      "source": [
        "**Directions:** \n",
        "You may work with your fellow classmates, but you need to complete the assignment on your own. I expect different headers and COMMENTS (comments are the key to showing that you really know your stuff - without comments, your code is useless to me).\n",
        "\n",
        "**Rubric:**\n",
        "* Code questions (50%):\n",
        "  * 10% question 1, 20% question 2, 20% question 4\n",
        "  * Full credit (100): Correct formulation and lots of useful comments. Nice headers and text cells included in the notebook.\n",
        "  * Half credit (50): Solution is wrong (bad code) or the comments are mediocre or directly copied. Nice headers and text cells included in the notebook.\n",
        "  * No credit (0): Bad code and bad comments, or good code and no comments. Poorly laid out notebook.\n",
        "* Sensitivity report questions (50%)\n",
        "  * Full credit (5%) Explicitly mentions whether optimal solution changes or not, and explicitly mentions the new optimal value; if not possible to infer information from report, explicitly mentions so.\n",
        "  * Half credit (3%) Gives one correct answer (optimal value or optimal solution) and forgets or gives incorrect answer for the other element\n",
        "  * Both answers are incorrect (or not given)\n"
      ]
    }
  ]
}